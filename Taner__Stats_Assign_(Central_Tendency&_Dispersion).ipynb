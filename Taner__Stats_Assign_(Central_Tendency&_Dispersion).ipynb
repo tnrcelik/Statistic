{
  "nbformat": 4,
  "nbformat_minor": 0,
  "metadata": {
    "colab": {
      "provenance": [],
      "collapsed_sections": [],
      "include_colab_link": true
    },
    "kernelspec": {
      "name": "python3",
      "display_name": "Python 3"
    }
  },
  "cells": [
    {
      "cell_type": "markdown",
      "metadata": {
        "id": "view-in-github",
        "colab_type": "text"
      },
      "source": [
        "<a href=\"https://colab.research.google.com/github/tnrcelik/Statistic/blob/main/Taner__Stats_Assign_(Central_Tendency%26_Dispersion).ipynb\" target=\"_parent\"><img src=\"https://colab.research.google.com/assets/colab-badge.svg\" alt=\"Open In Colab\"/></a>"
      ]
    },
    {
      "cell_type": "markdown",
      "metadata": {
        "id": "K7S4cEyZLTp7"
      },
      "source": [
        "## Descriptive Statistics"
      ]
    },
    {
      "cell_type": "code",
      "metadata": {
        "id": "CCZJzVnVT8bw"
      },
      "source": [],
      "execution_count": null,
      "outputs": []
    },
    {
      "cell_type": "markdown",
      "metadata": {
        "id": "vZRYVyc8H7hi"
      },
      "source": [
        " Import **NumPy**, **SciPy**, and **Pandas**"
      ]
    },
    {
      "cell_type": "code",
      "metadata": {
        "id": "7ShN0klrHIk3"
      },
      "source": [
        "import numpy as np\n",
        "import scipy as sp\n",
        "import pandas as pd\n",
        "from scipy import stats"
      ],
      "execution_count": null,
      "outputs": []
    },
    {
      "cell_type": "markdown",
      "metadata": {
        "id": "_SaQURIqIA6d"
      },
      "source": [
        " Randomly generate 1,000 samples from the normal distribution using `np.random.normal()`(mean = 100, standard deviation = 15)"
      ]
    },
    {
      "cell_type": "code",
      "metadata": {
        "id": "Jyw_FMX0IRkm",
        "outputId": "ab651311-d9ab-48fb-d0aa-3b401d83358e",
        "colab": {
          "base_uri": "https://localhost:8080/"
        }
      },
      "source": [
        "np.random.seed(3)\n",
        "samples = np.random.normal(100, 15, 1000)\n",
        "samples"
      ],
      "execution_count": null,
      "outputs": [
        {
          "output_type": "execute_result",
          "data": {
            "text/plain": [
              "array([126.8294271 , 106.54764776, 101.44746202,  72.04760945,\n",
              "        95.83917696,  94.67861531,  98.75887778,  90.59498985,\n",
              "        99.34272747,  92.84172954,  80.2920287 , 113.26933571,\n",
              "       113.21977063, 125.64359595, 100.75050463,  93.92983878,\n",
              "        91.81960079,  76.80284027, 114.73551151,  83.48398555,\n",
              "        82.22430209,  96.91525151, 122.29222533, 103.55074401,\n",
              "        84.6432229 ,  89.305102  , 109.37867449,  97.59229955,\n",
              "        88.46745475,  96.54953917, 111.175844  , 129.64166175,\n",
              "        81.33815007,  90.60374633,  87.94350858,  63.7137524 ,\n",
              "        86.14311967,  84.64186359, 116.85966938,  98.02128651,\n",
              "        75.65071831, 109.70013178,  94.65593861,  73.85288445,\n",
              "        91.05025537,  91.1710843 ,  86.89176553, 100.44570723,\n",
              "        66.27613349,  95.98357203, 115.19775163, 112.79196761,\n",
              "       116.6228125 , 116.79085983, 122.31314698,  83.22548973,\n",
              "       112.68750111,  72.08665707,  90.95672344,  71.28291935,\n",
              "       115.72221268, 120.00606729,  97.03877981, 126.61967547,\n",
              "        89.87908735, 102.25925298, 102.29418554,  84.03707089,\n",
              "       106.56919917, 129.08467691,  84.62603688, 113.49007669,\n",
              "        97.68239722, 126.54440955, 107.25682521, 110.143246  ,\n",
              "       109.64744921, 103.7363006 ,  79.06354746, 120.87494362,\n",
              "        79.43996481, 103.57844789, 109.21115632,  87.43131591,\n",
              "       102.17594821, 117.51823429,  99.63843295,  86.67013873,\n",
              "        56.26393372,  85.42239246,  91.13381892,  92.25373948,\n",
              "        85.6000573 , 105.65942851,  91.37937369,  98.35818499,\n",
              "       110.186074  ,  87.16844247,  95.49690888, 132.37224013,\n",
              "       113.11428584,  80.59695052,  98.80388593, 108.46728277,\n",
              "       118.50206567, 102.23479592,  92.04126783,  89.04210034,\n",
              "       109.67592977, 104.69590561,  92.25028113,  97.163925  ,\n",
              "        93.75702977, 110.86986487,  89.65058984, 107.29621713,\n",
              "       112.77278426, 107.29373989,  87.48640224, 120.17488685,\n",
              "        89.82680981, 106.39652612,  88.6999781 ,  73.83834624,\n",
              "       103.38625399, 104.30552747,  98.83838559, 104.14102746,\n",
              "        90.27383668,  88.93802744,  97.47864852, 128.63915214,\n",
              "       112.22221812,  92.20012369, 108.38069807,  92.82453009,\n",
              "        93.14108819, 112.88926012,  92.12103032,  74.86548049,\n",
              "        86.40257949, 101.32622809, 101.92011732, 118.62424777,\n",
              "        89.25961304, 110.97198604, 106.38950125,  97.76479342,\n",
              "       112.53765853, 107.38178354,  87.0653727 , 116.07525895,\n",
              "        81.6864712 , 100.8942315 , 100.03666243, 106.36953581,\n",
              "        89.11849779,  99.47584922,  97.89069959, 114.95632551,\n",
              "        88.0612796 , 101.09118294,  96.08139273,  80.52930043,\n",
              "       140.14168701,  98.93171459,  77.70012894, 121.12940438,\n",
              "        83.94121751, 105.56304958, 112.94248142,  90.27351966,\n",
              "        93.53664917,  91.89594604,  98.05958485,  75.66308244,\n",
              "        81.46545064,  97.88820337, 115.58428176, 109.47616266,\n",
              "       125.94126144, 110.41078408,  92.33306511,  98.15734892,\n",
              "        69.54409669,  85.58837335,  84.69461082, 104.05890137,\n",
              "       109.71744696,  91.59439872,  91.1724757 ,  76.80166266,\n",
              "        98.08356913, 103.72252041, 106.68671438,  88.25936435,\n",
              "       129.8273452 , 117.92587504,  98.57143602,  92.09218331,\n",
              "        95.1762296 , 102.26695557,  99.72058427, 107.25293181,\n",
              "       111.53447737, 120.49364265, 117.2089719 ,  98.34656267,\n",
              "       105.82375621,  94.19309228,  91.19169532, 128.66240277,\n",
              "        93.10230775, 129.86106718,  94.76446911, 103.79237637,\n",
              "       116.34114322, 100.35883033, 105.89687922,  96.379228  ,\n",
              "        92.86712713,  97.51334465,  90.25423869, 124.47074431,\n",
              "        97.48452096, 125.84003797,  59.72336983, 100.27631192,\n",
              "       108.42927509,  95.59268143, 116.41979619, 109.59538533,\n",
              "        95.8809982 , 106.52513887, 142.17817563, 103.7799269 ,\n",
              "       104.49253497,  93.40013033, 102.00245562,  80.66108209,\n",
              "        97.02564615, 136.86381439, 116.00823326, 109.62130983,\n",
              "       116.55882497, 128.22632487, 108.90382172, 131.06317789,\n",
              "       116.04697538, 102.49779265, 125.79214833,  64.61177893,\n",
              "        91.42976557, 103.9868057 ,  86.3186363 ,  97.65912396,\n",
              "        90.41813655,  90.18377183, 140.67889502, 109.41210834,\n",
              "        99.19078226, 119.72750836,  96.43993787, 113.28009513,\n",
              "       105.26223761, 124.39860407,  78.70193041, 111.48581608,\n",
              "       101.83374618,  82.63924937, 115.98130272,  86.91436508,\n",
              "       124.28857727, 107.69639513, 110.43225975, 101.20686082,\n",
              "       113.5679273 ,  72.01523241, 101.12091691,  90.5762379 ,\n",
              "       104.23990461,  99.2926464 , 109.24866825,  87.4355283 ,\n",
              "       127.58727831, 134.73787896,  96.87574873,  99.77540221,\n",
              "       104.31336476, 118.96128626, 128.45351434,  81.91295814,\n",
              "        90.77337153,  84.06765815,  83.30828274,  75.41055629,\n",
              "       105.44205229,  82.61445302, 122.54892929, 113.62478075,\n",
              "        84.55435712,  84.54687073,  90.81423373, 120.99948244,\n",
              "        87.2558896 ,  77.59675498,  99.25864172, 105.60084916,\n",
              "        90.14113772, 124.2914621 , 103.60685171, 106.7955668 ,\n",
              "        87.16700919,  99.40405242,  97.65221779,  65.91633828,\n",
              "       104.31485843,  73.07789447,  99.56821532,  77.8908576 ,\n",
              "       130.29475963, 104.89393409, 112.92036421, 113.78512197,\n",
              "        80.13266954,  65.77311528,  95.05632771, 113.45724621,\n",
              "       101.36551767, 111.78148371, 114.0494886 ,  77.61404348,\n",
              "       104.31525586, 129.49711942,  91.44201557,  69.56391811,\n",
              "        96.5214317 ,  93.02996918, 106.27571534,  86.61390498,\n",
              "       101.3607516 ,  66.73873583, 112.80945057, 123.80299815,\n",
              "       119.46816421,  77.27176512, 104.78794264,  55.24044693,\n",
              "       104.24778883,  99.03459742,  85.06308633, 105.15691778,\n",
              "       102.07021983, 114.09254281, 101.90962786, 103.52540519,\n",
              "        70.82391607,  82.60415574,  92.8615092 , 104.45266796,\n",
              "        99.90551832, 122.51335535,  86.94761215,  96.4055189 ,\n",
              "       103.82621042,  96.52753886, 107.43370593,  91.44155764,\n",
              "       121.30513458,  95.20614789, 116.73917777,  99.54544949,\n",
              "       122.37283519,  79.02825984, 107.75196331,  93.51135436,\n",
              "       103.47101142, 117.89207748,  82.91354802,  80.16955398,\n",
              "        85.02449682, 103.81581361,  71.69744612, 101.44890602,\n",
              "        80.70656009,  82.8441726 ,  94.46233382, 105.70896377,\n",
              "        90.60378245,  92.6193416 ,  99.37233658,  95.90896696,\n",
              "        59.85217952,  93.54849089, 101.27446087, 116.46669231,\n",
              "       130.69499165, 110.00481774, 101.18638289,  85.52854799,\n",
              "       101.33580056, 111.68345353, 118.96967367,  86.79232999,\n",
              "       103.54608393, 112.23406699, 127.91217504, 103.83385729,\n",
              "        91.87744426,  89.65600514,  94.63838907,  90.22119694,\n",
              "       112.39803772, 116.03958584, 110.87285233, 117.88279365,\n",
              "        93.19347193, 105.70502588,  94.23005237, 100.65488032,\n",
              "       118.37478614,  99.55397032,  72.02791304,  96.20776019,\n",
              "        89.30725306,  77.3662432 ,  88.14451466, 114.40937205,\n",
              "       125.21365973,  92.66490937, 115.03803755, 117.67333152,\n",
              "        82.60311598,  99.40955943,  99.33309744, 102.58578518,\n",
              "        76.09373784,  94.76286641, 115.86731811, 118.93304799,\n",
              "       127.47043122,  94.93736432, 128.04261334, 109.98857668,\n",
              "        79.61198248, 111.42413923,  94.71579949, 107.78614396,\n",
              "        98.46214086, 118.12357961, 103.84840239,  95.76242473,\n",
              "       114.47448653, 103.84332665,  93.80565399, 119.15911543,\n",
              "        93.87482136,  90.44297705,  91.90638082,  78.01791868,\n",
              "        91.70189246, 127.91316538,  86.37574097, 100.12628356,\n",
              "        83.37724976,  90.82970272, 122.78038238, 113.44533604,\n",
              "        90.84624475, 100.09330174,  87.60994057,  88.23691972,\n",
              "        86.27766703,  86.54290335, 104.8892391 , 108.9518975 ,\n",
              "       107.32363739,  97.45844715,  79.62932199,  98.99334293,\n",
              "        86.13559387, 113.21951699, 108.34664417, 111.20337296,\n",
              "        94.77447525,  72.8347124 , 114.3684459 , 118.39482002,\n",
              "        77.75025087, 102.06874066, 117.89878869,  83.86414676,\n",
              "       126.51524164,  94.76451315,  83.86914834, 120.57487061,\n",
              "       104.41798205,  90.20292758, 113.19681929,  70.66349307,\n",
              "       127.22959565,  87.75624909, 104.2897641 ,  94.02075745,\n",
              "       106.54348172, 113.31888584,  87.64170843, 111.79544377,\n",
              "        95.58950128,  89.68210735,  96.63934589,  84.93087092,\n",
              "        88.0649864 , 114.2370076 ,  97.73765436, 117.12299647,\n",
              "       106.47635491,  84.61047555,  71.53192859,  89.69137273,\n",
              "       103.96189734, 100.1321938 ,  87.54856569, 115.1921845 ,\n",
              "        73.81414744,  81.12030119, 101.90942654, 132.90644729,\n",
              "       106.20901192,  84.92140511, 108.8898571 , 110.25094861,\n",
              "       114.06785391,  93.85203199,  88.00410341, 101.77325919,\n",
              "       106.22912319, 123.97352872, 131.34473312,  89.00395099,\n",
              "        92.1554256 ,  99.04640379,  96.2534184 , 107.28685266,\n",
              "       107.28605808, 103.86845476, 120.16106937,  97.62233613,\n",
              "        84.23788091,  76.59098159,  84.57790188,  84.33613118,\n",
              "        71.74864254, 109.94781655, 102.77901753,  93.65810909,\n",
              "        86.65166531,  76.28581936,  86.20420605, 127.71863585,\n",
              "        66.83812541, 102.12715776, 111.15455456, 102.04198345,\n",
              "        95.24792619, 111.52110915,  83.4500761 , 108.33317493,\n",
              "       121.46046058,  84.3793842 ,  87.7024989 , 102.03910563,\n",
              "       114.84359194, 120.08722445, 110.2094043 ,  89.95745839,\n",
              "        83.28380932, 103.64467864, 105.9738644 ,  83.49171533,\n",
              "       100.89685728, 104.98356198, 115.6759599 ,  85.14155945,\n",
              "       108.35446792,  82.46086304,  93.60121031,  98.82584877,\n",
              "       122.76874387, 149.71456359, 103.80318513, 107.42937244,\n",
              "       115.11312422,  79.57515665, 111.48495103,  81.37390209,\n",
              "       124.4366796 , 121.65237647, 107.52309525,  87.89952229,\n",
              "       125.02037906, 103.89532562, 101.65365314, 108.6931502 ,\n",
              "        74.31480143, 106.42749134, 114.94162229, 105.08501472,\n",
              "       102.17888118,  85.69512826, 109.65332244, 103.00703421,\n",
              "       100.1359568 ,  91.55192622, 112.84256665, 118.70776555,\n",
              "       105.82219261, 113.45123609, 119.89034946, 123.82241718,\n",
              "       103.38475226,  96.80007969,  93.77581197, 100.20620519,\n",
              "       108.27949612, 114.07272903,  93.59886969, 102.24786335,\n",
              "        85.05129974, 118.95946011,  94.12808421, 105.36881692,\n",
              "        89.20944906,  95.52585939,  89.71005844, 125.57449836,\n",
              "       105.39045613,  97.50333002,  85.78536526,  90.84550428,\n",
              "       108.53057594, 124.98887527,  78.53666754,  86.24430161,\n",
              "        97.36317757,  90.57598973,  75.11226897, 100.28964624,\n",
              "       111.26563827,  76.34332961, 103.16439665, 114.47009363,\n",
              "       114.70490991,  93.7019396 , 134.57123569, 108.32670107,\n",
              "        87.83400673, 114.7644841 ,  83.16118047, 113.4290418 ,\n",
              "        81.06918484, 111.8581386 ,  91.24657349, 116.98432094,\n",
              "       111.11016122, 106.70811879, 100.87948651, 116.30524386,\n",
              "        72.94987131, 106.48831506, 106.20149052, 108.43224839,\n",
              "       112.39343233, 155.53687356, 101.75174002, 112.06749301,\n",
              "       102.28552745, 123.59002102,  69.68784277, 125.46921294,\n",
              "        89.74290375,  66.06638061,  83.82721634,  97.38220993,\n",
              "       102.91367873,  99.31162957, 112.25226586,  99.4723452 ,\n",
              "        99.05203598,  67.8472671 , 107.310161  , 115.15362552,\n",
              "        93.68990756,  71.84373551,  79.95241764, 125.10342457,\n",
              "        90.90689132,  90.03124175,  87.70823362, 110.21326176,\n",
              "        91.18234671,  86.96452126,  77.40455823,  98.38301528,\n",
              "       115.01421508,  97.78100676, 113.23329523, 102.63139581,\n",
              "       102.21755312, 102.68459364, 100.51662123, 115.39307528,\n",
              "       107.31779353,  91.32833981, 101.9293007 ,  98.86053048,\n",
              "       107.27397969, 102.70474976, 106.21866908,  77.84017233,\n",
              "       105.69386746, 119.70418088,  79.74709083, 124.01398812,\n",
              "       104.45609078,  96.88377247,  72.93267776, 116.3139553 ,\n",
              "        85.45675693,  92.33213842, 108.188564  ,  84.61630201,\n",
              "        85.19749901,  82.73079514,  98.32959725, 108.82804631,\n",
              "       106.04509093, 106.1110421 ,  94.83729637, 102.10704126,\n",
              "        89.64938877, 129.9651297 , 102.92090732,  70.67521951,\n",
              "        83.96038305, 124.01954217,  79.50269069,  93.43457814,\n",
              "       106.05438573,  83.55064476, 115.99907046, 125.18625219,\n",
              "        87.62891239, 116.93943484,  86.63165483,  85.03075136,\n",
              "       103.68527633, 103.56897016,  91.05946898, 112.63036364,\n",
              "        77.96227531,  87.16501089,  83.83195917, 111.37545502,\n",
              "       112.05853307, 110.00410669,  80.56599293, 101.99152198,\n",
              "       106.86480271,  75.74530032,  87.67460345, 109.68793514,\n",
              "       110.5548124 , 103.82852193, 108.13113512, 104.86144085,\n",
              "       102.24878076,  98.36114711,  86.92851656,  96.31677519,\n",
              "        93.95627583, 134.76662061, 103.90361088,  99.83957301,\n",
              "        96.52033751,  98.27192394,  95.91599632, 108.17057513,\n",
              "        99.55832762, 112.16619551,  89.5723586 , 105.25351882,\n",
              "       113.15734306,  82.68611521, 102.51654998, 103.70601172,\n",
              "        94.97879093,  92.69258535,  72.1763484 , 117.23231894,\n",
              "        86.0061432 ,  81.39444194, 109.86870208,  72.51587966,\n",
              "       114.44906688, 106.51328688, 108.97134425,  97.53998744,\n",
              "        81.73980139,  71.66855531, 121.85218035,  92.9208858 ,\n",
              "        92.24978275, 123.73244134,  90.52896289,  96.43060473,\n",
              "        96.44502341,  97.93810383,  84.40837202,  91.59679441,\n",
              "       119.28233569, 111.41639701,  55.34312032,  70.62202541,\n",
              "       105.0045516 ,  98.30568568,  94.38210346, 115.64108951,\n",
              "        73.23611012, 117.99388071, 101.97386385, 108.22609101,\n",
              "       103.80054848, 112.6921103 ,  96.24502312,  91.86612952,\n",
              "       111.72357002, 102.62654179,  81.18567267, 120.24421262,\n",
              "       118.16146754, 121.62156819, 101.19545487, 105.25799111,\n",
              "        94.27686428,  85.40756032, 100.98208086, 102.6476275 ,\n",
              "        90.05857875, 127.44542214,  75.7612786 ,  87.76982944,\n",
              "        89.9294318 , 119.36808093,  96.15114273,  95.12592573,\n",
              "        86.71763081,  88.53257035,  80.43070194, 115.23305818,\n",
              "       109.13335841, 114.85050988,  90.06460238, 137.67875317,\n",
              "        85.28031855,  69.19279492,  95.61835218, 102.0567906 ,\n",
              "       111.3451096 ,  84.73853958, 108.86282837, 125.6177859 ,\n",
              "        87.22112848,  88.89750407,  74.45709431, 103.61411492,\n",
              "       112.86120651, 111.50410986, 112.50434748, 121.24220413,\n",
              "       101.91163713, 114.29157963,  85.72574179,  88.13640207,\n",
              "       103.61299272,  87.72967452, 108.5755482 , 120.62577096,\n",
              "       106.05304398,  88.93852675,  88.77286217, 120.48049763,\n",
              "        88.02796271, 101.33975969,  96.11657716, 100.79532125,\n",
              "       116.44554085,  91.91810334,  78.84410721, 121.77604227,\n",
              "       103.3452123 , 110.88593698,  99.70932875, 111.66434598,\n",
              "       118.97106347, 120.4948948 ,  95.89818888,  94.71771517,\n",
              "       105.92302353, 103.1075731 , 108.4869442 ,  89.33591933,\n",
              "        65.12951754, 106.75029805, 111.71868432, 109.64522807,\n",
              "       124.89164363, 112.78343263,  94.17499942, 114.78138859,\n",
              "        98.7259787 , 118.82927493, 103.56981686, 106.80265953,\n",
              "       103.41585628, 100.81757555,  77.55140944, 100.8660996 ,\n",
              "        65.91177594, 107.46704501, 114.87878375, 130.76654923,\n",
              "       105.61114607,  89.25255278,  76.15635116, 129.21655234,\n",
              "        78.60594602, 113.43285105,  65.40595752,  99.22765946,\n",
              "       110.24835267, 104.87853701,  99.37689338,  87.62936644,\n",
              "        86.40000748, 115.12942856, 106.53594907,  97.59117358,\n",
              "       103.10240258,  86.0994644 , 115.33436299, 118.91461554,\n",
              "        88.30223867, 101.53031331, 115.72370953,  90.37257204,\n",
              "       130.51865169, 122.65943436,  95.81686079, 114.68158177,\n",
              "       124.93294727,  81.33864317, 109.28836314,  97.8347472 ,\n",
              "        96.75195328, 110.65459881,  92.84384159,  79.00371392,\n",
              "        78.66756455,  99.70396996, 109.43351984,  99.64185145,\n",
              "        97.71106877,  99.53805368, 119.33969438, 107.95679997,\n",
              "        88.81133429,  95.66823016, 118.07033581,  91.29546757,\n",
              "        94.07896187,  99.624036  ,  84.02633701, 113.53552074,\n",
              "        67.15789191, 121.77058159,  93.47262456,  81.15127575,\n",
              "       104.23395221,  74.33164596, 108.06025512, 111.60435998,\n",
              "        91.36134481,  94.16656836, 114.23117192,  89.93882917,\n",
              "       100.33753491, 105.21424782, 123.39939766,  92.45387171])"
            ]
          },
          "metadata": {},
          "execution_count": 6
        }
      ]
    },
    {
      "cell_type": "code",
      "source": [
        "from scipy import stats "
      ],
      "metadata": {
        "id": "dvagpumFJbCw"
      },
      "execution_count": null,
      "outputs": []
    },
    {
      "cell_type": "markdown",
      "metadata": {
        "id": "CDF8m3a4IYOC"
      },
      "source": [
        "Compute the **mean**, **median**, and **mode**"
      ]
    },
    {
      "cell_type": "code",
      "metadata": {
        "id": "ZKbeqxaKIoNs",
        "outputId": "1f8df841-e1b3-452e-da18-d5824df4ccb6",
        "colab": {
          "base_uri": "https://localhost:8080/"
        }
      },
      "source": [
        "mean_sample = np.mean(samples)\n",
        "median_sample = np.median(samples)\n",
        "mode_sample = stats.mode(samples)\n",
        "print(\"mean:\" ,mean_sample)\n",
        "print(\"median:\",median_sample)\n",
        "print('mode:',mode_sample)\n"
      ],
      "execution_count": null,
      "outputs": [
        {
          "output_type": "stream",
          "name": "stdout",
          "text": [
            "mean: 100.25926499471252\n",
            "median: 100.58575077502616\n",
            "mode: ModeResult(mode=array([55.24044693]), count=array([1]))\n"
          ]
        }
      ]
    },
    {
      "cell_type": "markdown",
      "metadata": {
        "id": "skT8m39XI60w"
      },
      "source": [
        "Compute the **min**, **max**, **Q1**, **Q3**, and **interquartile range**"
      ]
    },
    {
      "cell_type": "code",
      "metadata": {
        "id": "VaiDphm8It0O",
        "outputId": "8cc592de-09e3-4d88-a961-cc7d35e619ab",
        "colab": {
          "base_uri": "https://localhost:8080/"
        }
      },
      "source": [
        "min = np.min(samples)\n",
        "max = np.max(samples)\n",
        "q1 = np.percentile(samples,25)\n",
        "q3 = np.percentile(samples,75)\n",
        "iqr = np.percentile(samples,75)-np.percentile(samples,25)\n",
        "print(\"min :\", min) \n",
        "print(\"max :\", max) \n",
        "print(\"q1 :\", q1) \n",
        "print(\"q3 :\", q3) \n",
        "print(\"iqr :\", iqr) "
      ],
      "execution_count": null,
      "outputs": [
        {
          "output_type": "stream",
          "name": "stdout",
          "text": [
            "min : 55.240446926770545\n",
            "max : 155.53687356399791\n",
            "q1 : 89.73469242145458\n",
            "q3 : 111.00652983249475\n",
            "iqr : 21.271837411040167\n"
          ]
        }
      ]
    },
    {
      "cell_type": "markdown",
      "metadata": {
        "id": "m53Dv3n5JHQi"
      },
      "source": [
        "Compute the **variance** and **standard deviation**"
      ]
    },
    {
      "cell_type": "code",
      "metadata": {
        "id": "6JFaAYdrJbeN",
        "outputId": "bcfee749-66cd-482e-a5cd-2cd3e8530528",
        "colab": {
          "base_uri": "https://localhost:8080/"
        }
      },
      "source": [
        "variance = np.var(samples)\n",
        "std_dev = np.std(samples)\n",
        "print(\"variance:\" , variance)\n",
        "print(\"std_dev:\" , std_dev)"
      ],
      "execution_count": null,
      "outputs": [
        {
          "output_type": "stream",
          "name": "stdout",
          "text": [
            "variance: 228.7967377522978\n",
            "std_dev: 15.126028485769085\n"
          ]
        }
      ]
    },
    {
      "cell_type": "code",
      "source": [
        "from scipy import stats "
      ],
      "metadata": {
        "id": "7kWQyCIrLm9W"
      },
      "execution_count": null,
      "outputs": []
    },
    {
      "cell_type": "markdown",
      "metadata": {
        "id": "5eup4hI1JzqX"
      },
      "source": [
        "Compute the **skewness** and **kurtosis**\n",
        "\n",
        "You can use [`scipy.stats.skew`](https://docs.scipy.org/doc/scipy/reference/generated/scipy.stats.skew.html) and [`scipy.stats.kurtosis`](https://docs.scipy.org/doc/scipy/reference/generated/scipy.stats.kurtosis.html)"
      ]
    },
    {
      "cell_type": "code",
      "metadata": {
        "id": "YO3obyDnJ3_D",
        "outputId": "0ba89e0f-daa2-480b-cc9c-47bc1d09a4e5",
        "colab": {
          "base_uri": "https://localhost:8080/"
        }
      },
      "source": [
        "skw=stats.skew(samples)\n",
        "kur=stats.kurtosis(samples)\n",
        "print(skw,kur, sep=\"\\n\")\n"
      ],
      "execution_count": null,
      "outputs": [
        {
          "output_type": "stream",
          "name": "stdout",
          "text": [
            "-0.007269929512763888\n",
            "-0.06928694200380514\n"
          ]
        }
      ]
    },
    {
      "cell_type": "code",
      "source": [
        "import matplotlib.pyplot as plt\n",
        "plt.hist(samples, bins=15);\n"
      ],
      "metadata": {
        "colab": {
          "base_uri": "https://localhost:8080/",
          "height": 265
        },
        "id": "JYOM2jov_u_o",
        "outputId": "be9d2e0f-65e2-44ed-cae1-4427c8b19f1f"
      },
      "execution_count": null,
      "outputs": [
        {
          "output_type": "display_data",
          "data": {
            "text/plain": [
              "<Figure size 432x288 with 1 Axes>"
            ],
            "image/png": "[encoded data removed]"
          },
          "metadata": {
            "needs_background": "light"
          }
        }
      ]
    },
    {
      "cell_type": "markdown",
      "metadata": {
        "id": "a5UNc8PUKnbU"
      },
      "source": [
        "\n",
        "\n",
        "## NumPy Correlation Calculation"
      ]
    },
    {
      "cell_type": "markdown",
      "metadata": {
        "id": "cLiqxE1CMNTg"
      },
      "source": [
        "Create an array x of integers between 10 (inclusive) and 20 (exclusive). Use `np.arange()`"
      ]
    },
    {
      "cell_type": "code",
      "metadata": {
        "id": "5LAaQ6w5L-2L",
        "outputId": "cf8688ca-9ade-4454-8584-9577285007e9",
        "colab": {
          "base_uri": "https://localhost:8080/"
        }
      },
      "source": [
        "x = np.arange(10,20)\n",
        "x"
      ],
      "execution_count": null,
      "outputs": [
        {
          "output_type": "execute_result",
          "data": {
            "text/plain": [
              "array([10, 11, 12, 13, 14, 15, 16, 17, 18, 19])"
            ]
          },
          "metadata": {},
          "execution_count": 53
        }
      ]
    },
    {
      "cell_type": "markdown",
      "metadata": {
        "id": "qyCIaukNMZPf"
      },
      "source": [
        "Then use `np.array()` to create a second array y containing 10 arbitrary integers."
      ]
    },
    {
      "cell_type": "code",
      "metadata": {
        "id": "p27eW__gNMdh",
        "outputId": "37b63115-377d-4d28-b867-d650953742e0",
        "colab": {
          "base_uri": "https://localhost:8080/"
        }
      },
      "source": [
        "y = np.array(np.random.randn(1,10), dtype=int)\n",
        "y"
      ],
      "execution_count": null,
      "outputs": [
        {
          "output_type": "execute_result",
          "data": {
            "text/plain": [
              "array([[1, 0, 0, 0, 0, 0, 0, 0, 1, 0]])"
            ]
          },
          "metadata": {},
          "execution_count": 44
        }
      ]
    },
    {
      "cell_type": "markdown",
      "metadata": {
        "id": "Kh_VeKwINSqS"
      },
      "source": [
        "Once you have two arrays of the same length, you can compute the **correlation coefficient** between x and y"
      ]
    },
    {
      "cell_type": "code",
      "metadata": {
        "id": "yrtC6rPkNSDC",
        "outputId": "045918c4-23f2-4127-8e9c-868755e04e79",
        "colab": {
          "base_uri": "https://localhost:8080/"
        }
      },
      "source": [
        "x, y \n",
        "r = np.corrcoef(x,y)\n",
        "r"
      ],
      "execution_count": null,
      "outputs": [
        {
          "output_type": "execute_result",
          "data": {
            "text/plain": [
              "array([[1.        , 0.75864029],\n",
              "       [0.75864029, 1.        ]])"
            ]
          },
          "metadata": {},
          "execution_count": 58
        }
      ]
    },
    {
      "cell_type": "code",
      "source": [],
      "metadata": {
        "id": "Ihj18uw2GmOu"
      },
      "execution_count": null,
      "outputs": []
    },
    {
      "cell_type": "markdown",
      "metadata": {
        "id": "vXieLjYiNtPi"
      },
      "source": [
        "## Pandas Correlation Calculation"
      ]
    },
    {
      "cell_type": "markdown",
      "metadata": {
        "id": "z56t0k0qNvkr"
      },
      "source": [
        "Run the code below"
      ]
    },
    {
      "cell_type": "code",
      "source": [
        "import pandas as pd"
      ],
      "metadata": {
        "id": "KfAwzmZAypO1"
      },
      "execution_count": null,
      "outputs": []
    },
    {
      "cell_type": "code",
      "metadata": {
        "id": "9AVBMJCyNuwb"
      },
      "source": [
        "x = pd.Series(range(10, 20))\n",
        "y = pd.Series([2, 1, 4, 5, 8, 12, 18, 25, 96, 48])"
      ],
      "execution_count": null,
      "outputs": []
    },
    {
      "cell_type": "markdown",
      "metadata": {
        "id": "ZajVXYe2OCih"
      },
      "source": [
        "Call the relevant method  to calculate Pearson's r correlation."
      ]
    },
    {
      "cell_type": "code",
      "metadata": {
        "id": "Ak_rkzbLOafj",
        "colab": {
          "base_uri": "https://localhost:8080/"
        },
        "outputId": "59b008c0-f972-4de7-bac9-3636465a20a4"
      },
      "source": [
        "r = x.corr(y)\n",
        "r"
      ],
      "execution_count": null,
      "outputs": [
        {
          "output_type": "execute_result",
          "data": {
            "text/plain": [
              "0.7586402890911867"
            ]
          },
          "metadata": {},
          "execution_count": 16
        }
      ]
    },
    {
      "cell_type": "markdown",
      "metadata": {
        "id": "1CygSbnROb9V"
      },
      "source": [
        "OPTIONAL. Call the relevant method to calculate Spearman's rho correlation."
      ]
    },
    {
      "cell_type": "code",
      "source": [
        "from scipy.stats import spearmanr"
      ],
      "metadata": {
        "id": "cs9ujRYT3tST"
      },
      "execution_count": null,
      "outputs": []
    },
    {
      "cell_type": "code",
      "metadata": {
        "id": "xp_QkXwmOlYY",
        "colab": {
          "base_uri": "https://localhost:8080/"
        },
        "outputId": "6c590b15-bb8c-4efd-ecfe-367416596243"
      },
      "source": [
        "rho = spearmanr(x, y)\n",
        "rho"
      ],
      "execution_count": null,
      "outputs": [
        {
          "output_type": "execute_result",
          "data": {
            "text/plain": [
              "SpearmanrResult(correlation=0.9757575757575757, pvalue=1.4675461874042197e-06)"
            ]
          },
          "metadata": {},
          "execution_count": 19
        }
      ]
    },
    {
      "cell_type": "markdown",
      "metadata": {
        "id": "we7pg7kdOo7y"
      },
      "source": [
        "## Seaborn Dataset Tips"
      ]
    },
    {
      "cell_type": "markdown",
      "metadata": {
        "id": "VlzgFKN7OvqX"
      },
      "source": [
        "Import Seaborn Library"
      ]
    },
    {
      "cell_type": "code",
      "metadata": {
        "id": "t-49JRRqO4pw"
      },
      "source": [
        "import seaborn as sns"
      ],
      "execution_count": null,
      "outputs": []
    },
    {
      "cell_type": "markdown",
      "metadata": {
        "id": "0INVBB4tO4y4"
      },
      "source": [
        "Load \"tips\" dataset from Seaborn"
      ]
    },
    {
      "cell_type": "code",
      "metadata": {
        "id": "kieLvcM1PBv7"
      },
      "source": [
        "tips = sns.load_dataset(\"tips\")"
      ],
      "execution_count": null,
      "outputs": []
    },
    {
      "cell_type": "markdown",
      "metadata": {
        "id": "o2ISqVQrPh5S"
      },
      "source": [
        "Generate descriptive statistics include those that summarize the central tendency, dispersion"
      ]
    },
    {
      "cell_type": "code",
      "metadata": {
        "id": "FyFvmdbJPVg6",
        "colab": {
          "base_uri": "https://localhost:8080/"
        },
        "outputId": "78bc4772-62d7-491b-bd63-f99b2799557f"
      },
      "source": [
        "tips.describe"
      ],
      "execution_count": null,
      "outputs": [
        {
          "output_type": "execute_result",
          "data": {
            "text/plain": [
              "<bound method NDFrame.describe of      total_bill   tip     sex smoker   day    time  size\n",
              "0         16.99  1.01  Female     No   Sun  Dinner     2\n",
              "1         10.34  1.66    Male     No   Sun  Dinner     3\n",
              "2         21.01  3.50    Male     No   Sun  Dinner     3\n",
              "3         23.68  3.31    Male     No   Sun  Dinner     2\n",
              "4         24.59  3.61  Female     No   Sun  Dinner     4\n",
              "..          ...   ...     ...    ...   ...     ...   ...\n",
              "239       29.03  5.92    Male     No   Sat  Dinner     3\n",
              "240       27.18  2.00  Female    Yes   Sat  Dinner     2\n",
              "241       22.67  2.00    Male    Yes   Sat  Dinner     2\n",
              "242       17.82  1.75    Male     No   Sat  Dinner     2\n",
              "243       18.78  3.00  Female     No  Thur  Dinner     2\n",
              "\n",
              "[244 rows x 7 columns]>"
            ]
          },
          "metadata": {},
          "execution_count": 11
        }
      ]
    },
    {
      "cell_type": "markdown",
      "metadata": {
        "id": "3yCRK4VJPzRo"
      },
      "source": [
        "Call the relevant method to calculate pairwise Pearson's r correlation of columns"
      ]
    },
    {
      "cell_type": "code",
      "metadata": {
        "id": "qwvGzDU8PGnM",
        "colab": {
          "base_uri": "https://localhost:8080/",
          "height": 143
        },
        "outputId": "454727d7-366b-425c-c749-d289852f1f9c"
      },
      "source": [
        "tips.corr()"
      ],
      "execution_count": null,
      "outputs": [
        {
          "output_type": "execute_result",
          "data": {
            "text/plain": [
              "            total_bill       tip      size\n",
              "total_bill    1.000000  0.675734  0.598315\n",
              "tip           0.675734  1.000000  0.489299\n",
              "size          0.598315  0.489299  1.000000"
            ],
            "text/html": [
              "\n",
              "  <div id=\"df-c7683422-4151-46ea-9933-e806e1625de5\">\n",
              "    <div class=\"colab-df-container\">\n",
              "      <div>\n",
              "<style scoped>\n",
              "    .dataframe tbody tr th:only-of-type {\n",
              "        vertical-align: middle;\n",
              "    }\n",
              "\n",
              "    .dataframe tbody tr th {\n",
              "        vertical-align: top;\n",
              "    }\n",
              "\n",
              "    .dataframe thead th {\n",
              "        text-align: right;\n",
              "    }\n",
              "</style>\n",
              "<table border=\"1\" class=\"dataframe\">\n",
              "  <thead>\n",
              "    <tr style=\"text-align: right;\">\n",
              "      <th></th>\n",
              "      <th>total_bill</th>\n",
              "      <th>tip</th>\n",
              "      <th>size</th>\n",
              "    </tr>\n",
              "  </thead>\n",
              "  <tbody>\n",
              "    <tr>\n",
              "      <th>total_bill</th>\n",
              "      <td>1.000000</td>\n",
              "      <td>0.675734</td>\n",
              "      <td>0.598315</td>\n",
              "    </tr>\n",
              "    <tr>\n",
              "      <th>tip</th>\n",
              "      <td>0.675734</td>\n",
              "      <td>1.000000</td>\n",
              "      <td>0.489299</td>\n",
              "    </tr>\n",
              "    <tr>\n",
              "      <th>size</th>\n",
              "      <td>0.598315</td>\n",
              "      <td>0.489299</td>\n",
              "      <td>1.000000</td>\n",
              "    </tr>\n",
              "  </tbody>\n",
              "</table>\n",
              "</div>\n",
              "      <button class=\"colab-df-convert\" onclick=\"convertToInteractive('df-c7683422-4151-46ea-9933-e806e1625de5')\"\n",
              "              title=\"Convert this dataframe to an interactive table.\"\n",
              "              style=\"display:none;\">\n",
              "        \n",
              "  <svg xmlns=\"http://www.w3.org/2000/svg\" height=\"24px\"viewBox=\"0 0 24 24\"\n",
              "       width=\"24px\">\n",
              "    <path d=\"M0 0h24v24H0V0z\" fill=\"none\"/>\n",
              "    <path d=\"M18.56 5.44l.94 2.06.94-2.06 2.06-.94-2.06-.94-.94-2.06-.94 2.06-2.06.94zm-11 1L8.5 8.5l.94-2.06 2.06-.94-2.06-.94L8.5 2.5l-.94 2.06-2.06.94zm10 10l.94 2.06.94-2.06 2.06-.94-2.06-.94-.94-2.06-.94 2.06-2.06.94z\"/><path d=\"M17.41 7.96l-1.37-1.37c-.4-.4-.92-.59-1.43-.59-.52 0-1.04.2-1.43.59L10.3 9.45l-7.72 7.72c-.78.78-.78 2.05 0 2.83L4 21.41c.39.39.9.59 1.41.59.51 0 1.02-.2 1.41-.59l7.78-7.78 2.81-2.81c.8-.78.8-2.07 0-2.86zM5.41 20L4 18.59l7.72-7.72 1.47 1.35L5.41 20z\"/>\n",
              "  </svg>\n",
              "      </button>\n",
              "      \n",
              "  <style>\n",
              "    .colab-df-container {\n",
              "      display:flex;\n",
              "      flex-wrap:wrap;\n",
              "      gap: 12px;\n",
              "    }\n",
              "\n",
              "    .colab-df-convert {\n",
              "      background-color: #E8F0FE;\n",
              "      border: none;\n",
              "      border-radius: 50%;\n",
              "      cursor: pointer;\n",
              "      display: none;\n",
              "      fill: #1967D2;\n",
              "      height: 32px;\n",
              "      padding: 0 0 0 0;\n",
              "      width: 32px;\n",
              "    }\n",
              "\n",
              "    .colab-df-convert:hover {\n",
              "      background-color: #E2EBFA;\n",
              "      box-shadow: 0px 1px 2px rgba(60, 64, 67, 0.3), 0px 1px 3px 1px rgba(60, 64, 67, 0.15);\n",
              "      fill: #174EA6;\n",
              "    }\n",
              "\n",
              "    [theme=dark] .colab-df-convert {\n",
              "      background-color: #3B4455;\n",
              "      fill: #D2E3FC;\n",
              "    }\n",
              "\n",
              "    [theme=dark] .colab-df-convert:hover {\n",
              "      background-color: #434B5C;\n",
              "      box-shadow: 0px 1px 3px 1px rgba(0, 0, 0, 0.15);\n",
              "      filter: drop-shadow(0px 1px 2px rgba(0, 0, 0, 0.3));\n",
              "      fill: #FFFFFF;\n",
              "    }\n",
              "  </style>\n",
              "\n",
              "      <script>\n",
              "        const buttonEl =\n",
              "          document.querySelector('#df-c7683422-4151-46ea-9933-e806e1625de5 button.colab-df-convert');\n",
              "        buttonEl.style.display =\n",
              "          google.colab.kernel.accessAllowed ? 'block' : 'none';\n",
              "\n",
              "        async function convertToInteractive(key) {\n",
              "          const element = document.querySelector('#df-c7683422-4151-46ea-9933-e806e1625de5');\n",
              "          const dataTable =\n",
              "            await google.colab.kernel.invokeFunction('convertToInteractive',\n",
              "                                                     [key], {});\n",
              "          if (!dataTable) return;\n",
              "\n",
              "          const docLinkHtml = 'Like what you see? Visit the ' +\n",
              "            '<a target=\"_blank\" href=https://colab.research.google.com/notebooks/data_table.ipynb>data table notebook</a>'\n",
              "            + ' to learn more about interactive tables.';\n",
              "          element.innerHTML = '';\n",
              "          dataTable['output_type'] = 'display_data';\n",
              "          await google.colab.output.renderOutput(dataTable, element);\n",
              "          const docLink = document.createElement('div');\n",
              "          docLink.innerHTML = docLinkHtml;\n",
              "          element.appendChild(docLink);\n",
              "        }\n",
              "      </script>\n",
              "    </div>\n",
              "  </div>\n",
              "  "
            ]
          },
          "metadata": {},
          "execution_count": 10
        }
      ]
    }
  ]
}